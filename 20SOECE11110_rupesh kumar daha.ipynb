{
 "cells": [
  {
   "cell_type": "code",
   "execution_count": 1,
   "id": "654f703a",
   "metadata": {},
   "outputs": [
    {
     "name": "stdout",
     "output_type": "stream",
     "text": [
      "hello\n"
     ]
    }
   ],
   "source": [
    "print('hello')"
   ]
  },
  {
   "cell_type": "code",
   "execution_count": 3,
   "id": "164633c6",
   "metadata": {},
   "outputs": [
    {
     "name": "stdout",
     "output_type": "stream",
     "text": [
      "set()\n"
     ]
    }
   ],
   "source": [
    "import os\n",
    "import shutil\n",
    "folderpath='G:\\\\New folder'\n",
    "os.chdir(folderpath)\n",
    "list_extension=[]\n",
    "for fl in os.listdir():\n",
    "    extension=fl.split(\".\")[-1]\n",
    "    list_extension.append(extension)\n",
    "    \n",
    "list_extension=set(list_extension)\n",
    "print(list_extension)\n",
    "path=os.path.join(\"G:\\\\\",'file_managemer')\n",
    "try:\n",
    "    shutil.rmtree(path)\n",
    "    os.mkdir(path)\n",
    "    \n",
    "except:\n",
    "    os.mkdir(path)\n",
    "for ex in list_extension:\n",
    "    os.mkdir(path + '\\\\' + ex)\n",
    "    for fl in os.listdir():\n",
    "        if ex in fl:\n",
    "            shutil.copy(fl,path + '\\\\' + ex)\n",
    "\n",
    "        \n",
    "    \n",
    "    \n"
   ]
  },
  {
   "cell_type": "code",
   "execution_count": null,
   "id": "e24c2fbe",
   "metadata": {},
   "outputs": [],
   "source": []
  }
 ],
 "metadata": {
  "kernelspec": {
   "display_name": "Python 3 (ipykernel)",
   "language": "python",
   "name": "python3"
  },
  "language_info": {
   "codemirror_mode": {
    "name": "ipython",
    "version": 3
   },
   "file_extension": ".py",
   "mimetype": "text/x-python",
   "name": "python",
   "nbconvert_exporter": "python",
   "pygments_lexer": "ipython3",
   "version": "3.9.6"
  }
 },
 "nbformat": 4,
 "nbformat_minor": 5
}
